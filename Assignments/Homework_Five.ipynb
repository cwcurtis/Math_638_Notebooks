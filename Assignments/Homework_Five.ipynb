{
 "cells": [
  {
   "cell_type": "code",
   "execution_count": 1,
   "metadata": {
    "collapsed": true
   },
   "outputs": [],
   "source": [
    "import numpy as np\n",
    "import matplotlib.pyplot as plt\n",
    "%matplotlib inline"
   ]
  },
  {
   "cell_type": "markdown",
   "metadata": {},
   "source": [
    "# Homework 5\n",
    "\n",
    "**Problem 1**) (5 pts) 6.1.8"
   ]
  },
  {
   "cell_type": "markdown",
   "metadata": {},
   "source": [
    "**Problem 2**) (5 pts) 6.3.11"
   ]
  },
  {
   "cell_type": "markdown",
   "metadata": {},
   "source": [
    "**Problem 3**) (5 pts) 6.5.7"
   ]
  },
  {
   "cell_type": "markdown",
   "metadata": {},
   "source": [
    "**Problem 4**) (5 pts) 6.5.15"
   ]
  },
  {
   "cell_type": "markdown",
   "metadata": {},
   "source": [
    "**Problem 5**) (5 pts) 6.7.4"
   ]
  },
  {
   "cell_type": "markdown",
   "metadata": {},
   "source": [
    "**Problem 6**) (5 pts)  As we discussed in class, we can transform the Korteweg--de Vries equation\n",
    "\n",
    "$$\n",
    "u_{t} + uu_{x} + u_{xxx} = 0,\n",
    "$$\n",
    "\n",
    "into an ODE via the coordinate transformation $\\xi = x - ct$ so that the PDE becomes \n",
    "\n",
    "$$\n",
    "-cu_{\\xi} + uu_{\\xi} + u_{\\xi\\xi\\xi} = 0.\n",
    "$$\n",
    "\n",
    "Here $c$ is called the _wave-speed_.  Integrating once in $\\xi$ and requiring $u=0$ to be a solution gives us\n",
    "\n",
    "$$\n",
    "-cu + \\frac{1}{2}u^{2} + u_{\\xi\\xi} = 0.\n",
    "$$\n",
    "\n",
    "* Show the above ODE is a conservative one and find the associated potential $V(u)$.  \n",
    "* Determine conditions on the wave speed $c$ which ensure the origin is a saddle.  \n",
    "* For those wave speeds which ensure the origin is a saddle, draw the full phase plane.  Justify your plot in a similar fashion to how we worked in class.  \n",
    "* Show a homoclinic solution satisfies the reduced differential equation\n",
    "  $$\n",
    "    u_{\\xi}^{2} = cu^{2} - \\frac{1}{3}u^{3}.\n",
    "  $$\n",
    "  Find a scaling transformation $u(\\xi)\\rightarrow \\alpha u(\\beta \\xi)$ which reduces the equation to \n",
    "  $$\n",
    "    u_{\\xi}^{2} = u^{2} - u^{3}.\n",
    "  $$\n",
    "  What does this transformation tell you about the connection be the amplitude $\\alpha$ and width $\\beta$ of the homoclinc       solution and the wave speed $c$? \n",
    "  \n",
    "* For all the marbles, show that $0< u \\leq 1$ and thus compute the integral \n",
    "  $$\n",
    "    \\xi = \\pm\\int_{u}^{1}\\frac{dt}{t\\sqrt{1-t}},\n",
    "  $$\n",
    "  and then invert to find the homoclinic solution $u(\\xi)$.  Describe this solution in terms $\\alpha$, $\\beta$, and the wave speed $c$.  "
   ]
  },
  {
   "cell_type": "code",
   "execution_count": null,
   "metadata": {},
   "outputs": [],
   "source": []
  }
 ],
 "metadata": {
  "kernelspec": {
   "display_name": "Python 2",
   "language": "python",
   "name": "python2"
  },
  "language_info": {
   "codemirror_mode": {
    "name": "ipython",
    "version": 2
   },
   "file_extension": ".py",
   "mimetype": "text/x-python",
   "name": "python",
   "nbconvert_exporter": "python",
   "pygments_lexer": "ipython2",
   "version": "2.7.15"
  }
 },
 "nbformat": 4,
 "nbformat_minor": 1
}
