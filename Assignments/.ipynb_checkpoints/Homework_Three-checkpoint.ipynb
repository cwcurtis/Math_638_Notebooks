{
 "cells": [
  {
   "cell_type": "code",
   "execution_count": 1,
   "metadata": {
    "collapsed": true
   },
   "outputs": [],
   "source": [
    "import numpy as np\n",
    "import matplotlib.pyplot as plt\n",
    "%matplotlib inline"
   ]
  },
  {
   "cell_type": "markdown",
   "metadata": {},
   "source": [
    "Problem 1) (10pts)  Using the notes as a model, study the effect of increasing $\\epsilon$ for the equation \n",
    "\n",
    "$$\n",
    "\\dot{x} = x(1-x^{2}) + \\epsilon \\sin(t), ~ x(0) = \\tilde{x}_{0}\n",
    "$$\n",
    "\n",
    "This work should include:\n",
    "\n",
    "a) A regular perturbation approximation of the form $x(t) = x_{0}(t) + \\epsilon x_{1}(t) + \\mathcal{O}(\\epsilon^{2})$.  Note, feel free to use a symbolic solver to find the integral necessary to compute $x_{1}(t)$.\n",
    "\n",
    "b) Numerical simulations used to compare to your approximate solutions.\n",
    "\n",
    "c) An exploration of different choices of the initial condition $\\tilde{x}_{0}$ and how this impacts the long time limit of your solutions.\n",
    "\n",
    "d) A rough idea of what value of $\\epsilon$ causes your perturbation expansion to break down.  Provide justification through numerical simulation.  "
   ]
  },
  {
   "cell_type": "markdown",
   "metadata": {},
   "source": [
    "Problem 2) (3pts each) 3.1.2, 3.2.2"
   ]
  },
  {
   "cell_type": "markdown",
   "metadata": {},
   "source": [
    "Problem 3) (5 pts) Consider the system \n",
    "$$\n",
    "\\dot{X} = RX-X^2+aX^{3}+\\mathcal{O}(X^{4})\n",
    "$$ \n",
    "where $R\\neq 0$.  We want to find a new variable $x$ such that the system transforms into $\\dot{x} = Rx - x^{2} + \\mathcal{O}(x^{4})$.  \n",
    "\n",
    "To do this let\n",
    "$$\n",
    "x = X + bX^{3} + \\mathcal{O}(X^{4})\n",
    "$$\n",
    "where $b$ will be chosen later to eliminate the cubic term.  This is called a _ near-identity _ transformation.  To pull this off you need to\n",
    "\n",
    "a) Show that the near-identity transformation can be inverted to yield\n",
    "\n",
    "$$\n",
    "X = x + cx^{3} + \\mathcal{O}(x^{4})\n",
    "$$\n",
    "\n",
    "where the point is to find $c$ in terms of $b$.\n",
    "\n",
    "b) Write $\\dot{x} = \\dot{X} + 3bX^{2}\\dot{X} + \\mathcal{O}(X^{4})$, and then use your expandsion for $X$ so that everything is in terms of $x$.  How do you choose $b$ so that ultimately you have no cubic term?"
   ]
  },
  {
   "cell_type": "markdown",
   "metadata": {},
   "source": [
    "Problem 4) (5pts) Now we generalize the method from above.  Suppose we have managed to eliminate a number of higher-order terms, so that the system has been transformed into \n",
    "\n",
    "$$\n",
    "\\dot{X} = RX - X^{2} + a_{n}X^{n} + \\mathcal{O}(X^{n+1}), ~ n\\geq 3.\n",
    "$$\n",
    "\n",
    "Use the near-identity transformation $x = X + b_{n}X^{n} + \\mathcal{O}(X^{n+1})$ and the previous strategy to show that the system can be rewritten as \n",
    "\n",
    "$$\n",
    "\\dot{x} = Rx - x^{2} + \\mathcal{O}(x^{n+1})\n",
    "$$\n",
    "\n",
    "for an appropriate choice of $b_{n}$.  This shows we can eliminate as many higher-order terms as we like.  "
   ]
  },
  {
   "cell_type": "code",
   "execution_count": null,
   "metadata": {
    "collapsed": true
   },
   "outputs": [],
   "source": []
  }
 ],
 "metadata": {
  "anaconda-cloud": {},
  "kernelspec": {
   "display_name": "Python [Root]",
   "language": "python",
   "name": "Python [Root]"
  },
  "language_info": {
   "codemirror_mode": {
    "name": "ipython",
    "version": 2
   },
   "file_extension": ".py",
   "mimetype": "text/x-python",
   "name": "python",
   "nbconvert_exporter": "python",
   "pygments_lexer": "ipython2",
   "version": "2.7.12"
  }
 },
 "nbformat": 4,
 "nbformat_minor": 0
}
