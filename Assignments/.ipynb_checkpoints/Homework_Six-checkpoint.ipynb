{
 "cells": [
  {
   "cell_type": "code",
   "execution_count": 1,
   "metadata": {},
   "outputs": [],
   "source": [
    "import numpy as np\n",
    "import matplotlib.pyplot as plt\n",
    "%matplotlib inline"
   ]
  },
  {
   "cell_type": "markdown",
   "metadata": {},
   "source": [
    "## Homework 6"
   ]
  },
  {
   "cell_type": "markdown",
   "metadata": {},
   "source": [
    "**Problem 1** 10 pts) Let $G$ be a map from $\\mathbb{R}^{n}\\rightarrow \\mathbb{R}^{n}$.  We say that it is an _involution_ if \n",
    "\n",
    "$$\n",
    "G \\cdot G = I\n",
    "$$\n",
    "\n",
    "For a dynamical system \n",
    "\n",
    "$$\n",
    "\\frac{d {\\bf x}}{dt} = f\\left({\\bf x}\\right),\n",
    "$$\n",
    "\n",
    "we say that it is _reversible_ if there exists an involution $G$ such that \n",
    "\n",
    "$$\n",
    "\\frac{d}{dt}\\left(G{\\bf x}\\right) = -f\\left(G{\\bf x}\\right)\n",
    "$$\n",
    "\n",
    "* (2pts) Explain how our definition of reversability fits within the definition given above.\n",
    "* (3pts) In $\\mathbb{R}^{2}$, find at least two other involutions which lead to a reversible dynamical system. \n",
    "* (5pts) For your choices above, show that in each case that if the dynamical system has a fixed point at the origin with strictly imaginary spectra that it is in fact a nonlinear center.  "
   ]
  },
  {
   "cell_type": "markdown",
   "metadata": {},
   "source": [
    "**Problem 2** 10 pts) For the dynamical system\n",
    "\n",
    "$$\n",
    "\\frac{d}{dt}\\begin{pmatrix}x \\\\ y \\end{pmatrix} = \\begin{pmatrix} 0 & \\omega \\\\ -\\omega & 0\\end{pmatrix}\\begin{pmatrix}x \\\\ y \\end{pmatrix} + \\begin{pmatrix} \\alpha_{1}x^{2} + \\beta_{1}xy + \\gamma_{1}y^{2}\\\\ \\alpha_{2}x^{2} + \\beta_{2}xy + \\gamma_{2}y^{2} \\end{pmatrix}\n",
    "$$\n",
    "\n",
    "* (4pts) First, rescale the system to try to eliminate as many parameters as possible.\n",
    "* (6pts) Determine in your rescaled systems which remaining parameter choices lead to the fixed point at the origin being a nonlinear center.  \n",
    "\n",
    "_Hints and Thoughts_: So one way to tackle this problem is that after rescaling, first list out all the cases with a noteworthy symmetry, i.e. which cases lead to exact systems of equations, which to reversible and so forth.  \n",
    "\n",
    "Then, we get to have some fun.  If we rescale $\\omega=1$, show that letting $z = x+iy$, we can rewrite our ODE as \n",
    "\n",
    "$$\n",
    "\\dot{z} = -iz + \\tilde{\\alpha}_{1}z^{2} + \\tilde{\\beta}_{1}|z|^{2} + \\tilde{\\gamma}_{1}(z^{\\ast})^{2},\n",
    "$$\n",
    "\n",
    "with the corresponding equation for the dynamics of the complex conjugate $z^{\\ast} = x-iy$ being understood.  Something like SAGE is your friend in terms of determining the new coefficients in terms of the old.  \n",
    "\n",
    "Now, as with normal-form theory in one dimension, let \n",
    "\n",
    "$$\n",
    "z = w + h_{2}(w,w^{\\ast}), \n",
    "$$\n",
    "\n",
    "where \n",
    "\n",
    "$$\n",
    "h_{2}(w,w^{\\ast}) = c_{0}w^{2} + c_{1}ww^{\\ast} + c_{2}(w^{\\ast})^{2}, \n",
    "$$\n",
    "\n",
    "i.e. it is some arbitrary linear combination of second degree terms.  Note, the $c_{j}\\in \\mathbb{C}$.  Again, throughout all of this, we are supposing that $z$ and therefore $w$ is small.  Thus, $h_{2}(w,w^{\\ast})$ is smaller yet still since $h_{2}(w,w^{\\ast})=\\mathcal{O}(|w|^{2})$.  Using this fact, and the geometric series result that \n",
    "\n",
    "$$\n",
    "\\frac{1}{1+\\tilde{w}} = 1 -\\tilde{w} + \\mathcal{O}(\\tilde{w}^{2}), ~ \\tilde{w}\\in \\mathbb{C}, ~|\\tilde{w}|<1\n",
    "$$\n",
    "\n",
    "show that \n",
    "\n",
    "$$\n",
    "\\dot{w} = -iw - ih_{2} + iw\\frac{\\partial h_{2}}{\\partial w} - iw^{\\ast}\\frac{\\partial h_{2}}{\\partial w^{\\ast}} + \\tilde{\\alpha}_{1}w^{2} + \\tilde{\\beta}_{1}|w|^{2} + \\tilde{\\gamma}_{1}(w^{\\ast})^{2} + \\mathcal{O}\\left(|w|^{3}\\right)\n",
    "$$\n",
    "\n",
    "Then show that you can choose the $c_{j}$-terms so that \n",
    "\n",
    "$$\n",
    "\\dot{w} = -iw + \\mathcal{O}\\left(|w|^{3}\\right).\n",
    "$$\n",
    "\n",
    "In other words, show that the second-order terms can be completely removed. We'll continue this tale in a later assignment, but suffice to say, you should hopefully see now how delicate a question of what a center is is.  "
   ]
  },
  {
   "cell_type": "markdown",
   "metadata": {},
   "source": [
    "**Problem 3** 10 pts) 6.6.8 (2pts, 3pts, 2pts, 3pts)"
   ]
  },
  {
   "cell_type": "code",
   "execution_count": null,
   "metadata": {},
   "outputs": [],
   "source": []
  }
 ],
 "metadata": {
  "kernelspec": {
   "display_name": "Python [default]",
   "language": "python",
   "name": "python2"
  },
  "language_info": {
   "codemirror_mode": {
    "name": "ipython",
    "version": 2
   },
   "file_extension": ".py",
   "mimetype": "text/x-python",
   "name": "python",
   "nbconvert_exporter": "python",
   "pygments_lexer": "ipython2",
   "version": "2.7.15"
  }
 },
 "nbformat": 4,
 "nbformat_minor": 2
}
