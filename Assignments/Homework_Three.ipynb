{
 "cells": [
  {
   "cell_type": "code",
   "execution_count": 1,
   "metadata": {
    "collapsed": true
   },
   "outputs": [],
   "source": [
    "import numpy as np\n",
    "import matplotlib.pyplot as plt\n",
    "%matplotlib inline"
   ]
  },
  {
   "cell_type": "markdown",
   "metadata": {},
   "source": [
    "Problem 1) (10pts)  Using the notes as a model, study the effect of increasing $\\epsilon$ for the equation \n",
    "\n",
    "$$\n",
    "\\dot{x} = x(1-x^{2}) + \\epsilon \\sin(t), ~ x(0) = \\tilde{x}_{0}\n",
    "$$\n",
    "\n",
    "This work should include:\n",
    "\n",
    "a) A regular perturbation approximation of the form $x(t) = x_{0}(t) + \\epsilon x_{1}(t) + \\mathcal{O}(\\epsilon^{2})$.  Note, feel free to use a symbolic solver to find the integral necessary to compute $x_{1}(t)$.\n",
    "\n",
    "b) Numerical simulations used to compare to your approximate solutions.\n",
    "\n",
    "c) An exploration of different choices of the initial condition $\\tilde{x}_{0}$ and how this impacts the long time limit of your solutions.\n",
    "\n",
    "d) A rough idea of what value of $\\epsilon$ causes your perturbation expansion to break down.  Provide justification through numerical simulation.  "
   ]
  },
  {
   "cell_type": "markdown",
   "metadata": {},
   "source": [
    "Problem 2) (3pts each) 3.1.2, 3.2.2"
   ]
  },
  {
   "cell_type": "markdown",
   "metadata": {},
   "source": [
    "Problem 3) (5 pts) 3.2.6"
   ]
  },
  {
   "cell_type": "markdown",
   "metadata": {},
   "source": [
    "Problem 4) (5pts) 3.2.7"
   ]
  },
  {
   "cell_type": "code",
   "execution_count": null,
   "metadata": {
    "collapsed": true
   },
   "outputs": [],
   "source": []
  }
 ],
 "metadata": {
  "anaconda-cloud": {},
  "kernelspec": {
   "display_name": "Python [Root]",
   "language": "python",
   "name": "Python [Root]"
  },
  "language_info": {
   "codemirror_mode": {
    "name": "ipython",
    "version": 2
   },
   "file_extension": ".py",
   "mimetype": "text/x-python",
   "name": "python",
   "nbconvert_exporter": "python",
   "pygments_lexer": "ipython2",
   "version": "2.7.12"
  }
 },
 "nbformat": 4,
 "nbformat_minor": 0
}
