{
 "cells": [
  {
   "cell_type": "code",
   "execution_count": 1,
   "metadata": {},
   "outputs": [],
   "source": [
    "import numpy as np\n",
    "import matplotlib.pyplot as plt\n",
    "%matplotlib inline"
   ]
  },
  {
   "cell_type": "markdown",
   "metadata": {},
   "source": [
    "## Homework 6"
   ]
  },
  {
   "cell_type": "markdown",
   "metadata": {},
   "source": [
    "**Problem 1** 10 pts) Let $G$ be a map from $\\mathbb{R}^{n}\\rightarrow \\mathbb{R}^{n}$.  We say that it is an _involution_ if \n",
    "\n",
    "$$\n",
    "G \\cdot G = I\n",
    "$$\n",
    "\n",
    "For a dynamical system \n",
    "\n",
    "$$\n",
    "\\frac{d {\\bf x}}{dt} = f\\left({\\bf x}\\right),\n",
    "$$\n",
    "\n",
    "we say that it is _reversible_ if there exists an involution $G$ such that \n",
    "\n",
    "$$\n",
    "\\frac{d}{dt}\\left(G{\\bf x}\\right) = -f\\left(G{\\bf x}\\right)\n",
    "$$\n",
    "\n",
    "* (2pts) Explain how our definition of reversability fits within the definition given above.\n",
    "* (3pts) In $\\mathbb{R}^{2}$, find at least two other involutions which lead to a reversible dynamical system. \n",
    "* (5pts) For your choices above, show that in each case that if the dynamical system has a fixed point at the origin with strictly imaginary spectra that it is in fact a nonlinear center.  "
   ]
  },
  {
   "cell_type": "markdown",
   "metadata": {},
   "source": [
    "**Problem 2** 10 pts) For the dynamical system\n",
    "\n",
    "$$\n",
    "\\frac{d}{dt}\\begin{pmatrix}x \\\\ y \\end{pmatrix} = \\begin{pmatrix} 0 & \\omega \\\\ -\\omega & 0\\end{pmatrix}\\begin{pmatrix}x \\\\ y \\end{pmatrix} + \\begin{pmatrix} \\alpha_{1}x^{2} + \\beta_{1}xy + \\gamma_{1}y^{2}\\\\ \\alpha_{2}x^{2} + \\beta_{2}xy + \\gamma_{2}y^{2} \\end{pmatrix}\n",
    "$$\n",
    "\n",
    "* (4pts) First, rescale the system to try to eliminate as many parameters as possible.\n",
    "* (6pts) Determine in your rescaled systems which remaining parameter choices lead to the fixed point at the origin being a nonlinear center.  "
   ]
  },
  {
   "cell_type": "markdown",
   "metadata": {},
   "source": [
    "**Problem 3** 10 pts) 6.6.8 (2pts, 3pts, 2pts, 3pts)"
   ]
  },
  {
   "cell_type": "code",
   "execution_count": null,
   "metadata": {},
   "outputs": [],
   "source": []
  }
 ],
 "metadata": {
  "kernelspec": {
   "display_name": "Python 2",
   "language": "python",
   "name": "python2"
  },
  "language_info": {
   "codemirror_mode": {
    "name": "ipython",
    "version": 2
   },
   "file_extension": ".py",
   "mimetype": "text/x-python",
   "name": "python",
   "nbconvert_exporter": "python",
   "pygments_lexer": "ipython2",
   "version": "2.7.15"
  }
 },
 "nbformat": 4,
 "nbformat_minor": 2
}
