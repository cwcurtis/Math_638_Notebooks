{
 "cells": [
  {
   "cell_type": "code",
   "execution_count": 1,
   "metadata": {
    "collapsed": true
   },
   "outputs": [],
   "source": [
    "import numpy as np\n",
    "import matplotlib.pyplot as plt\n",
    "%matplotlib inline"
   ]
  },
  {
   "cell_type": "markdown",
   "metadata": {},
   "source": [
    "# Homework 6\n",
    "\n",
<<<<<<< HEAD
    "**Problem 1**) (5 pts) 6.1.8"
=======
    "**Problem 1**) (10 pts) A map $G:\\mathbb{R}^{n}\\rightarrow \\mathbb{R}^{n}$ is called an _involution_ if $G\\cdot G = I$, i.e. $G$ composed with itself is the identity.  We call a dynamical system \n",
    "\n",
    "$$\n",
    "\\frac{d \\bf x}{dt} = f\\left({\\bf x} \\right), ~ {\\bf x}\\in \\mathbb{R}^{n}\n",
    "$$\n",
    "\n",
    "reversible if there is an involution $G$ such that \n",
    "\n",
    "$$\n",
    "\\frac{d \\left( G{\\bf x} \\right) }{dt} = -f\\left(G{\\bf x} \\right)\n",
    "$$\n",
    "\n",
    "* (3pts) In $\\mathbb{R}^{2}$, show that our definition from reversibility in class is compatible with the definition above.  \n",
    "* (3pts) In $\\mathbb{R}^{2}$ find at least two other involutions which would make a system reversible.  \n",
    "* (4pts) For your involutions, can you show that in each case they insure that a fixed point whose linearization has strictly imaginary spectra is necessarily a center?  Please provide details similar to those we worked out in class.   "
>>>>>>> 9171d3ff42809961ff3199e2f6796656f2074dd3
   ]
  },
  {
   "cell_type": "markdown",
   "metadata": {},
   "source": [
<<<<<<< HEAD
    "**Problem 2**) (5 pts) 6.3.11"
=======
    "**Problem 2**) (10pts) Suppose you have the dynamical system \n",
    "\n",
    "$$\n",
    "\\frac{d}{dt}\\begin{pmatrix}\n",
    "x \\\\ y\n",
    "\\end{pmatrix} = \\begin{pmatrix} 0 & \\omega \\\\ -\\omega & 0 \\end{pmatrix} \\begin{pmatrix}\n",
    "x \\\\ y\n",
    "\\end{pmatrix} + \\begin{pmatrix} \\alpha_{1}x^{2} + \\beta_{1}xy + \\gamma_{1}y^{2} \\\\\n",
    "\\alpha_{2}x^{2} + \\beta_{2}xy + \\gamma_{2}y^{2}\\end{pmatrix}\n",
    "$$\n",
    "\n",
    "* (4pts) First rescale your system and determine which parameters are in fact essential to the problem.\n",
    "* (6pts) Having done this, determine general conditions on the remaining parameters which ensures the fixed point at the origin is a center.     "
   ]
  },
  {
   "cell_type": "markdown",
   "metadata": {},
   "source": [
    "**Problem 3**) (10pts) 6.6.8 (2pts, 3pts, 2pts, 3pts)"
>>>>>>> 9171d3ff42809961ff3199e2f6796656f2074dd3
   ]
  },
  {
   "cell_type": "markdown",
   "metadata": {},
   "source": [
    "**Problem 3**) (5 pts) 6.5.7"
   ]
  },
  {
   "cell_type": "markdown",
   "metadata": {},
   "source": [
    "**Problem 4**) (5 pts) 6.5.15"
   ]
  },
  {
   "cell_type": "markdown",
   "metadata": {},
   "source": [
    "**Problem 5**) (5 pts) 6.7.4"
   ]
  }
 ],
 "metadata": {
  "kernelspec": {
<<<<<<< HEAD
   "display_name": "Python [default]",
=======
   "display_name": "Python 2",
>>>>>>> 9171d3ff42809961ff3199e2f6796656f2074dd3
   "language": "python",
   "name": "python2"
  },
  "language_info": {
   "codemirror_mode": {
    "name": "ipython",
    "version": 2
   },
   "file_extension": ".py",
   "mimetype": "text/x-python",
   "name": "python",
   "nbconvert_exporter": "python",
   "pygments_lexer": "ipython2",
   "version": "2.7.15"
  }
 },
 "nbformat": 4,
 "nbformat_minor": 1
}
