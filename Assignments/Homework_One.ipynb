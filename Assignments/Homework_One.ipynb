{
 "cells": [
  {
   "cell_type": "code",
   "execution_count": 1,
   "metadata": {
    "collapsed": true
   },
   "outputs": [],
   "source": [
    "import numpy as np\n",
    "import matplotlib.pyplot as plt\n",
    "%matplotlib inline"
   ]
  },
  {
   "cell_type": "markdown",
   "metadata": {},
   "source": [
    "# Homework 1"
   ]
  },
  {
   "cell_type": "markdown",
   "metadata": {},
   "source": [
    "Problem 1) Using the model provided, solve the following ODE's and provide plots in Python of their solutions.  \n",
    "\n",
    "### Model Problem and Solution:\n",
    "\n",
    "$$\n",
    "\\dot{x} + 2x = \\sin(t),~ x(0) = 1,\n",
    "$$\n",
    "\n",
    "Noting that $p(t) = 2$, we see that the integrating factor $G(t)$ is \n",
    "\n",
    "$$\n",
    "G(t) = e^{\\int_{0}^{t} 2 du} = e^{2t},\n",
    "$$\n",
    "\n",
    "and thus the solution, using the method of integrating factors, is given by \n",
    "\n",
    "$$\n",
    "x(t) = e^{-2t} + e^{-2t}\\int_{0}^{t}\\sin(u)e^{2u}du. \n",
    "$$\n",
    "\n",
    "Integration by parts readily gives us that\n",
    "\n",
    "\\begin{align}\n",
    "\\int_{0}^{t}\\sin(u)e^{2u}du = & \\frac{1}{2}\\sin(t)e^{2t} - \\frac{1}{2}\\int_{0}^{t}\\cos(u)e^{2u} du\\\\\n",
    "= & \\frac{1}{2}\\sin(t)e^{2t} - \\frac{1}{4}\\left.\\cos(u)e^{2u}\\right|_{0}^{t} - \\frac{1}{4}\\int_{0}^{t}\\sin(u)e^{2u}du\n",
    "\\end{align}\n",
    "\n",
    "so that \n",
    "\n",
    "$$\n",
    "\\int_{0}^{t}\\sin(u)e^{2u}du = \\frac{1}{5}\\left(1 + 2\\sin(t)e^{2t} - \\cos(t)e^{2t} \\right)\n",
    "$$\n",
    "\n",
    "and thus\n",
    "\n",
    "$$\n",
    "x(t) = e^{-2t} + \\frac{1}{5}\\left(e^{-2t} + 2\\sin(t) - \\cos(t) \\right)\n",
    "$$\n",
    "\n",
    "To illustrate this, we use the following code, which provides a plot of $x(t)$ for $0\\leq t \\leq 10$."
   ]
  },
  {
   "cell_type": "code",
   "execution_count": 6,
   "metadata": {},
   "outputs": [
    {
     "name": "stdout",
     "output_type": "stream",
     "text": [
      "2.06115362244e-09\n"
     ]
    },
    {
     "data": {
      "image/png": "[encoded data removed]",
      "text/plain": [
       "<matplotlib.figure.Figure at 0x71ac93d2a550>"
      ]
     },
     "metadata": {},
     "output_type": "display_data"
    }
   ],
   "source": [
    "tvals = np.linspace(0,10,int(1e2))\n",
    "xvals = 6./5.*np.exp(-2.*tvals) + (2.*np.sin(tvals) - np.cos(tvals))/5.\n",
    "\n",
    "plt.plot(tvals,xvals)\n",
    "plt.xlabel('$t$')\n",
    "plt.ylabel('$x(t)$')\n",
    "\n",
    "print np.exp(-20.)"
   ]
  },
  {
   "cell_type": "markdown",
   "metadata": {},
   "source": [
    "Note, that at $t=10$, $e^{-20}\\approx 2 \\times 10^{-9}$, and so we see by that time the solution is essentially given by \n",
    "\n",
    "$$\n",
    "x(t) \\approx \\frac{2}{5}\\sin(t) - \\frac{1}{5}\\cos(t),\n",
    "$$\n",
    "\n",
    "so that the choice of initial condition is rapidly damped out and the problem is then driven by the sinusoidal forcing due to the $\\sin(t)$ term on the right hand side of the ODE.  "
   ]
  },
  {
   "cell_type": "markdown",
   "metadata": {},
   "source": [
    "1a) (5 pts) Solve and plot for $t\\geq 0$.\n",
    "\n",
    "$$\n",
    "\\dot{x} + 3x = \\cos(3t), ~ x(0) = 2\n",
    "$$\n",
    "\n",
    "Solution for 1a):"
   ]
  },
  {
   "cell_type": "markdown",
   "metadata": {},
   "source": [
    "1b) (5 pts) Solve and plot for $t\\geq 1$.\n",
    "\n",
    "$$\n",
    "\\dot{x} + \\frac{x}{t} = \\sin(2t), ~ x(1) = 3\n",
    "$$\n",
    "\n",
    "Solution for 1b):"
   ]
  },
  {
   "cell_type": "markdown",
   "metadata": {},
   "source": [
    "## Notes on Making Phase Plots in Python\n",
    "\n",
    "In order to make phase plots, we will use the Pyplot command `quiver`.  As an example, we use $\\dot{x}=\\sin(x)$.  Adapt the code below to your own needs.   "
   ]
  },
  {
   "cell_type": "code",
   "execution_count": null,
   "metadata": {},
   "outputs": [],
   "source": [
    "Pi = np.pi\n",
    "xvals = np.linspace(-2.*Pi,2.*Pi,90)\n",
    "yvals = np.zeros(xvals.size)\n",
    "xprime = np.sin(xvals)\n",
    "yprime = np.zeros(xvals.size)\n",
    "plt.plot(xvals,np.sin(xvals),ls='--',color='k')\n",
    "plt.quiver(xvals,yvals,xprime,yprime,color='r')\n",
    "plt.xlabel('$x$')"
   ]
  },
  {
   "cell_type": "markdown",
   "metadata": {},
   "source": [
    "Problem 2): (2pts each) 2.1.1, 2.1.2, 2.1.3"
   ]
  },
  {
   "cell_type": "markdown",
   "metadata": {},
   "source": [
    "Problem 3): (2pts each) 2.2.3, 2.2.4, 2.2.7"
   ]
  },
  {
   "cell_type": "markdown",
   "metadata": {},
   "source": [
    "Problem 4) (2pts for each part) 2.2.13"
   ]
  },
  {
   "cell_type": "code",
   "execution_count": null,
   "metadata": {
    "collapsed": true
   },
   "outputs": [],
   "source": []
  }
 ],
 "metadata": {
  "kernelspec": {
   "display_name": "Python [default]",
   "language": "python",
   "name": "python2"
  },
  "language_info": {
   "codemirror_mode": {
    "name": "ipython",
    "version": 2
   },
   "file_extension": ".py",
   "mimetype": "text/x-python",
   "name": "python",
   "nbconvert_exporter": "python",
   "pygments_lexer": "ipython2",
   "version": "2.7.15"
  }
 },
 "nbformat": 4,
 "nbformat_minor": 2
}
