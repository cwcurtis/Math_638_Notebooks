{
 "cells": [
  {
   "cell_type": "code",
   "execution_count": 1,
   "metadata": {
    "collapsed": true
   },
   "outputs": [],
   "source": [
    "import numpy as np\n",
    "import matplotlib.pyplot as plt\n",
    "%matplotlib inline"
   ]
  },
  {
   "cell_type": "markdown",
   "metadata": {},
   "source": [
    "# Homework 2\n",
    "\n",
    "**Problem 1**) (5 pts) 2.3.2.  Also, using the non-dimensionalizations \n",
    "\n",
    "$$\n",
    "x = x_{s}\\tilde{x}, ~ \\tau = \\frac{t}{t_{s}},\n",
    "$$\n",
    "\n",
    "find a non-dimensionalization which removes all free parameters from the equation.  What does your non-dimensionalization tell you about the scales within the dynamics?"
   ]
  },
  {
   "cell_type": "markdown",
   "metadata": {},
   "source": [
    "**Problem 2**) (5pts) 2.3.4.  Also, using the non-dimensionalizations \n",
    "\n",
    "$$\n",
    "N = N_{s}\\tilde{N}, ~ \\tau = \\frac{t}{t_{s}},\n",
    "$$\n",
    "\n",
    "find a non-dimensionalization which removes as many free parameters from the equation as possible.  What does your non-dimensionalization tell you about the scales within the dynamics?  You cannot remove all the parameters, though you should be able to get one parameter in terms of all three.  What does this one parameter tell you about the dynamics in the problem?  "
   ]
  },
  {
   "cell_type": "markdown",
   "metadata": {},
   "source": [
    "**Problem 3**) (5pts) 2.4.8"
   ]
  },
  {
   "cell_type": "markdown",
   "metadata": {
    "collapsed": true
   },
   "source": [
    "**Problem 4**) (3pts each) 3.1.2, 3.2.2"
   ]
  },
  {
   "cell_type": "markdown",
   "metadata": {},
   "source": [
    "**Problem 5**) (5 pts) Consider the system \n",
    "$$\n",
    "\\dot{X} = RX-X^2+aX^{3}+\\mathcal{O}(X^{4})\n",
    "$$ \n",
    "where $R\\neq 0$.  We want to find a new variable $x$ such that the system transforms into $\\dot{x} = Rx - x^{2} + \\mathcal{O}(x^{4})$.  \n",
    "\n",
    "To do this let\n",
    "$$\n",
    "x = X + bX^{3} + \\mathcal{O}(X^{4})\n",
    "$$\n",
    "where $b$ will be chosen later to eliminate the cubic term.  This is called a _near-identity_ transformation.  To pull this off you need to\n",
    "\n",
    "a) Show that the near-identity transformation can be inverted to yield\n",
    "\n",
    "$$\n",
    "X = x + cx^{3} + \\mathcal{O}(x^{4})\n",
    "$$\n",
    "\n",
    "where the point is to find $c$ in terms of $b$.\n",
    "\n",
    "b) Write $\\dot{x} = \\dot{X} + 3bX^{2}\\dot{X} + \\mathcal{O}(X^{4})$, and then use your expandsion for $X$ so that everything is in terms of $x$.  How do you choose $b$ so that ultimately you have no cubic term?"
   ]
  },
  {
   "cell_type": "markdown",
   "metadata": {},
   "source": [
    "**Problem 6**) (5pts) Now we generalize the method from above.  Suppose we have managed to eliminate a number of higher-order terms, so that the system has been transformed into \n",
    "\n",
    "$$\n",
    "\\dot{X} = RX - X^{2} + a_{n}X^{n} + \\mathcal{O}(X^{n+1}), ~ n\\geq 3.\n",
    "$$\n",
    "\n",
    "Use the near-identity transformation $x = X + b_{n}X^{n} + \\mathcal{O}(X^{n+1})$ and the previous strategy to show that the system can be rewritten as \n",
    "\n",
    "$$\n",
    "\\dot{x} = Rx - x^{2} + \\mathcal{O}(x^{n+1})\n",
    "$$\n",
    "\n",
    "for an appropriate choice of $b_{n}$.  This shows we can eliminate as many higher-order terms as we like.  "
   ]
  }
 ],
 "metadata": {
  "anaconda-cloud": {},
  "kernelspec": {
   "display_name": "Python [conda env:Anaconda2]",
   "language": "python",
   "name": "conda-env-Anaconda2-py"
  },
  "language_info": {
   "codemirror_mode": {
    "name": "ipython",
    "version": 2
   },
   "file_extension": ".py",
   "mimetype": "text/x-python",
   "name": "python",
   "nbconvert_exporter": "python",
   "pygments_lexer": "ipython2",
   "version": "2.7.15"
  }
 },
 "nbformat": 4,
 "nbformat_minor": 2
}
